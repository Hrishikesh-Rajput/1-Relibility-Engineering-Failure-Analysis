{
 "cells": [
  {
   "cell_type": "markdown",
   "id": "f10d9805",
   "metadata": {},
   "source": [
    "# Failure Rate Analysis\n",
    "\n",
    "A process of examining the frequency and causes of failures in a system, product, or process. "
   ]
  },
  {
   "cell_type": "markdown",
   "id": "6f1eed2d",
   "metadata": {},
   "source": [
    "### \n",
    "A delivery company relies on a fleet of delivery vehicles equipped with GPS devices. The company has been experiencing issues with the GPS devices, leading to unexpected service interruptions and delays in deliveries. The objective is to perform a failure rate analysis on the GPS devices to identify and address the root causes of failures."
   ]
  },
  {
   "cell_type": "code",
   "execution_count": 1,
   "id": "0b0d4888",
   "metadata": {},
   "outputs": [],
   "source": [
    "import random\n"
   ]
  },
  {
   "cell_type": "code",
   "execution_count": 2,
   "id": "30b2a578",
   "metadata": {},
   "outputs": [],
   "source": [
    "def simulate_gps_failures(num_days):\n",
    "    # Simulate random GPS failures over a specified number of days\n",
    "    failures = [random.choice([0, 1]) for _ in range(num_days)]  # 1 represents failure, 0 represents normal operation\n",
    "    return failures"
   ]
  },
  {
   "cell_type": "code",
   "execution_count": 3,
   "id": "0928f4e5",
   "metadata": {},
   "outputs": [],
   "source": [
    "def calculate_failure_rate(failures, num_days):\n",
    "    # Calculate failure rate per day\n",
    "    total_failures = sum(failures)\n",
    "    failure_rate = total_failures / num_days\n",
    "    return failure_rate\n"
   ]
  },
  {
   "cell_type": "code",
   "execution_count": 4,
   "id": "1e03e998",
   "metadata": {},
   "outputs": [],
   "source": [
    "def main():\n",
    "    # Simulation parameters\n",
    "    num_days = 30  # Number of days to simulate\n",
    "\n",
    "    # Simulate GPS failures\n",
    "    gps_failures = simulate_gps_failures(num_days)\n",
    "\n",
    "    # Calculate failure rate\n",
    "    failure_rate = calculate_failure_rate(gps_failures, num_days)\n",
    "\n",
    "    # Display results\n",
    "    print(f\"Simulated GPS failures: {gps_failures}\")\n",
    "    print(f\"Failure rate: {failure_rate:.4f} failures per day\")"
   ]
  },
  {
   "cell_type": "code",
   "execution_count": 5,
   "id": "29f99219",
   "metadata": {},
   "outputs": [
    {
     "name": "stdout",
     "output_type": "stream",
     "text": [
      "Simulated GPS failures: [1, 1, 0, 1, 1, 0, 1, 1, 0, 1, 0, 0, 0, 1, 0, 0, 0, 0, 1, 0, 0, 0, 1, 0, 1, 0, 0, 1, 0, 0]\n",
      "Failure rate: 0.4000 failures per day\n"
     ]
    }
   ],
   "source": [
    "if __name__ == \"__main__\":\n",
    "    main()"
   ]
  },
  {
   "cell_type": "markdown",
   "id": "e48929c3",
   "metadata": {},
   "source": [
    "### A failure rate of, for example, 0.4 failures per day means that, on average,four one out of every ten days, a GPS device is failing.\n",
    "### The pattern of failures in the simulated data could help identify periods of increased vulnerability or potential systemic issues."
   ]
  },
  {
   "cell_type": "markdown",
   "id": "90f9a24b",
   "metadata": {},
   "source": [
    "link : https://chat.openai.com/share/903dc6ce-85b8-4d68-89bc-ccdfac145e8b"
   ]
  },
  {
   "cell_type": "code",
   "execution_count": null,
   "id": "b539fc7f",
   "metadata": {},
   "outputs": [],
   "source": [
    "Thank you "
   ]
  }
 ],
 "metadata": {
  "kernelspec": {
   "display_name": "Python 3 (ipykernel)",
   "language": "python",
   "name": "python3"
  },
  "language_info": {
   "codemirror_mode": {
    "name": "ipython",
    "version": 3
   },
   "file_extension": ".py",
   "mimetype": "text/x-python",
   "name": "python",
   "nbconvert_exporter": "python",
   "pygments_lexer": "ipython3",
   "version": "3.11.5"
  }
 },
 "nbformat": 4,
 "nbformat_minor": 5
}
