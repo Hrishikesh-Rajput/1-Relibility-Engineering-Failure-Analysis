{
 "cells": [
  {
   "cell_type": "markdown",
   "id": "bcc12fc3",
   "metadata": {},
   "source": [
    "# Censoring "
   ]
  },
  {
   "cell_type": "markdown",
   "id": "be2ffece",
   "metadata": {},
   "source": [
    "### Exact failure time is not observed but know only to be greater than a certain level"
   ]
  },
  {
   "cell_type": "markdown",
   "id": "0fe1d159",
   "metadata": {},
   "source": [
    "### Types : \n",
    "\n",
    "#### Right:\n",
    " Event of interset is not observed beyond certain point in time.\n",
    " eg.End of the study \n",
    " \n",
    "#### left:\n",
    " Event haas occured before study begin.\n",
    "\n",
    "#### interval:\n",
    " Failure time is known to lie within a specific interval."
   ]
  },
  {
   "cell_type": "markdown",
   "id": "70e4699c",
   "metadata": {},
   "source": [
    "# "
   ]
  },
  {
   "cell_type": "markdown",
   "id": "9fb52967",
   "metadata": {},
   "source": [
    "# Right Censoring\n",
    "\n",
    "### eg.  clinical trial studying the time until relapse for patients with a certain medical condition. The study has a fixed duration, and not all patients experience a relapse during this period. Some patients might still be in remission at the end of the study, and their relapse times are right-censored.\n",
    "\n",
    "#### Patients who experienced a relapse have an event value of 1, while patients who did not experience a relapse (right-censored) have an event value of 0."
   ]
  },
  {
   "cell_type": "code",
   "execution_count": 10,
   "id": "f6853410",
   "metadata": {},
   "outputs": [],
   "source": [
    "import pandas as pd\n",
    "from lifelines import KaplanMeierFitter   #non parametric estimate\n",
    "import matplotlib.pyplot as plt\n"
   ]
  },
  {
   "cell_type": "markdown",
   "id": "3d062517",
   "metadata": {},
   "source": [
    "The Kaplan-Meier estimator is then applied to estimate the survival curve, and the resulting plot includes markers for censored data points."
   ]
  },
  {
   "cell_type": "code",
   "execution_count": 8,
   "id": "22179e37",
   "metadata": {},
   "outputs": [],
   "source": [
    "# Creating a sample dataset\n",
    "data = pd.DataFrame({\n",
    "    'time_to_relapse': [10, 15, 20, 30, 40, 50, 60, 70],\n",
    "    'event': [1, 1, 1, 1, 0, 1, 0, 0]  # 1 indicates relapse, 0 indicates censoring\n",
    "})"
   ]
  },
  {
   "cell_type": "code",
   "execution_count": 3,
   "id": "4f79007b",
   "metadata": {},
   "outputs": [
    {
     "data": {
      "text/plain": [
       "<lifelines.KaplanMeierFitter:\"KM_estimate\", fitted with 8 total observations, 3 right-censored observations>"
      ]
     },
     "execution_count": 3,
     "metadata": {},
     "output_type": "execute_result"
    }
   ],
   "source": [
    "# Fitting Kaplan-Meier estimator\n",
    "kmf = KaplanMeierFitter()\n",
    "kmf.fit(durations=data['time_to_relapse'], event_observed=data['event'])"
   ]
  },
  {
   "cell_type": "code",
   "execution_count": 9,
   "id": "8d17be70",
   "metadata": {},
   "outputs": [
    {
     "data": {
      "image/png": "[encoded data removed]",
      "text/plain": [
       "<Figure size 640x480 with 1 Axes>"
      ]
     },
     "metadata": {},
     "output_type": "display_data"
    }
   ],
   "source": [
    "# Plotting the Kaplan-Meier survival curve\n",
    "kmf.plot_survival_function(show_censors=True)\n",
    "plt.title('Survival Curve with Right Censoring')\n",
    "plt.xlabel('Time to Relapse')\n",
    "plt.ylabel('Survival Probability')\n",
    "plt.show()"
   ]
  },
  {
   "cell_type": "markdown",
   "id": "4d968ca6",
   "metadata": {},
   "source": [
    "### Interpretation:\n",
    "\n",
    "The survival curve visually depicts the probability of patients avoiding relapse over time.\n",
    "\n",
    "Steps downward in the curve correspond to observed relapse events.\n",
    "\n",
    "The markers indicate points where some patients were right-censored because they did not experience a relapse within the study duration."
   ]
  },
  {
   "cell_type": "code",
   "execution_count": 40,
   "id": "2a454010",
   "metadata": {},
   "outputs": [],
   "source": [
    "###########################################################################################################################"
   ]
  },
  {
   "cell_type": "markdown",
   "id": "308a60de",
   "metadata": {},
   "source": [
    "## Log Rank test\n",
    "### The log-rank test is a widely used statistical test in survival analysis to compare the survival curves of two or more groups. It is particularly useful when dealing with right-censored data.\n",
    "\n",
    "The test assesses whether there are significant differences in survival experiences between groups."
   ]
  },
  {
   "cell_type": "markdown",
   "id": "7aafb095",
   "metadata": {},
   "source": [
    "#### Clinical Trial on Cancer Treatments\n",
    "\n",
    "Suppose a clinical trial is conducted to compare the survival outcomes of patients with a certain type of cancer. Patients are randomly assigned to receive either Treatment A or Treatment B. The study follows patients for a specified period, noting the time until an event (e.g., death) or censoring if the event hasn't occurred by the end of the study."
   ]
  },
  {
   "cell_type": "code",
   "execution_count": 11,
   "id": "3e5647ac",
   "metadata": {},
   "outputs": [],
   "source": [
    "from lifelines.statistics import logrank_test"
   ]
  },
  {
   "cell_type": "markdown",
   "id": "57f48df4",
   "metadata": {},
   "source": [
    "#### The logrank_test function from the lifelines.statistics module, results provide a test statistic, p-value, and other relevant information. \n",
    "\n",
    "A low p-value suggests a significant difference in survival between the groups."
   ]
  },
  {
   "cell_type": "code",
   "execution_count": 13,
   "id": "39be1b94",
   "metadata": {},
   "outputs": [],
   "source": [
    "# Generate a hypothetical dataset\n",
    "# These are “what if” data bases which result from a real data base by makiig some alternate assumption about reality. \n",
    "# Such data bases are composed of hypothetical relations and are useful for debugging purposes,\n",
    "# test data and a variety of simulations.\n",
    "\n",
    "data = pd.DataFrame({\n",
    "    'time': [12, 24, 36, 48, 60, 72, 84, 96, 108],\n",
    "    'treatment': ['A', 'A', 'A', 'B', 'A', 'B', 'A', 'B', 'A'],\n",
    "    'event': [1, 1, 0, 1, 1, 0, 1, 1, 0]  # 1 indicates event, 0 indicates censoring\n",
    "})\n",
    "\n"
   ]
  },
  {
   "cell_type": "code",
   "execution_count": 14,
   "id": "68fd99f7",
   "metadata": {},
   "outputs": [],
   "source": [
    "# Separate the data into two treatment groups\n",
    "group_A = data[data['treatment'] == 'A']\n",
    "group_B = data[data['treatment'] == 'B']"
   ]
  },
  {
   "cell_type": "code",
   "execution_count": 15,
   "id": "5bc9a339",
   "metadata": {},
   "outputs": [
    {
     "data": {
      "text/html": [
       "<div>\n",
       "<style scoped>\n",
       "    .dataframe tbody tr th:only-of-type {\n",
       "        vertical-align: middle;\n",
       "    }\n",
       "\n",
       "    .dataframe tbody tr th {\n",
       "        vertical-align: top;\n",
       "    }\n",
       "\n",
       "    .dataframe thead th {\n",
       "        text-align: right;\n",
       "    }\n",
       "</style>\n",
       "<table border=\"1\" class=\"dataframe\">\n",
       "  <thead>\n",
       "    <tr style=\"text-align: right;\">\n",
       "      <th></th>\n",
       "      <th>time</th>\n",
       "      <th>treatment</th>\n",
       "      <th>event</th>\n",
       "    </tr>\n",
       "  </thead>\n",
       "  <tbody>\n",
       "    <tr>\n",
       "      <th>0</th>\n",
       "      <td>12</td>\n",
       "      <td>A</td>\n",
       "      <td>1</td>\n",
       "    </tr>\n",
       "    <tr>\n",
       "      <th>1</th>\n",
       "      <td>24</td>\n",
       "      <td>A</td>\n",
       "      <td>1</td>\n",
       "    </tr>\n",
       "    <tr>\n",
       "      <th>2</th>\n",
       "      <td>36</td>\n",
       "      <td>A</td>\n",
       "      <td>0</td>\n",
       "    </tr>\n",
       "    <tr>\n",
       "      <th>4</th>\n",
       "      <td>60</td>\n",
       "      <td>A</td>\n",
       "      <td>1</td>\n",
       "    </tr>\n",
       "    <tr>\n",
       "      <th>6</th>\n",
       "      <td>84</td>\n",
       "      <td>A</td>\n",
       "      <td>1</td>\n",
       "    </tr>\n",
       "    <tr>\n",
       "      <th>8</th>\n",
       "      <td>108</td>\n",
       "      <td>A</td>\n",
       "      <td>0</td>\n",
       "    </tr>\n",
       "  </tbody>\n",
       "</table>\n",
       "</div>"
      ],
      "text/plain": [
       "   time treatment  event\n",
       "0    12         A      1\n",
       "1    24         A      1\n",
       "2    36         A      0\n",
       "4    60         A      1\n",
       "6    84         A      1\n",
       "8   108         A      0"
      ]
     },
     "execution_count": 15,
     "metadata": {},
     "output_type": "execute_result"
    }
   ],
   "source": [
    "group_A"
   ]
  },
  {
   "cell_type": "code",
   "execution_count": 16,
   "id": "07ff793f",
   "metadata": {},
   "outputs": [
    {
     "data": {
      "text/html": [
       "<div>\n",
       "<style scoped>\n",
       "    .dataframe tbody tr th:only-of-type {\n",
       "        vertical-align: middle;\n",
       "    }\n",
       "\n",
       "    .dataframe tbody tr th {\n",
       "        vertical-align: top;\n",
       "    }\n",
       "\n",
       "    .dataframe thead th {\n",
       "        text-align: right;\n",
       "    }\n",
       "</style>\n",
       "<table border=\"1\" class=\"dataframe\">\n",
       "  <thead>\n",
       "    <tr style=\"text-align: right;\">\n",
       "      <th></th>\n",
       "      <th>time</th>\n",
       "      <th>treatment</th>\n",
       "      <th>event</th>\n",
       "    </tr>\n",
       "  </thead>\n",
       "  <tbody>\n",
       "    <tr>\n",
       "      <th>3</th>\n",
       "      <td>48</td>\n",
       "      <td>B</td>\n",
       "      <td>1</td>\n",
       "    </tr>\n",
       "    <tr>\n",
       "      <th>5</th>\n",
       "      <td>72</td>\n",
       "      <td>B</td>\n",
       "      <td>0</td>\n",
       "    </tr>\n",
       "    <tr>\n",
       "      <th>7</th>\n",
       "      <td>96</td>\n",
       "      <td>B</td>\n",
       "      <td>1</td>\n",
       "    </tr>\n",
       "  </tbody>\n",
       "</table>\n",
       "</div>"
      ],
      "text/plain": [
       "   time treatment  event\n",
       "3    48         B      1\n",
       "5    72         B      0\n",
       "7    96         B      1"
      ]
     },
     "execution_count": 16,
     "metadata": {},
     "output_type": "execute_result"
    }
   ],
   "source": [
    "group_B"
   ]
  },
  {
   "cell_type": "code",
   "execution_count": 17,
   "id": "c4c402c1",
   "metadata": {},
   "outputs": [
    {
     "data": {
      "text/plain": [
       "<lifelines.KaplanMeierFitter:\"KM_estimate\", fitted with 6 total observations, 2 right-censored observations>"
      ]
     },
     "execution_count": 17,
     "metadata": {},
     "output_type": "execute_result"
    }
   ],
   "source": [
    "# Fit Kaplan-Meier estimator for each group\n",
    "kmf_A = KaplanMeierFitter()\n",
    "kmf_A.fit(durations=group_A['time'], event_observed=group_A['event'])"
   ]
  },
  {
   "cell_type": "code",
   "execution_count": 19,
   "id": "7156f382",
   "metadata": {},
   "outputs": [
    {
     "data": {
      "text/plain": [
       "<lifelines.KaplanMeierFitter:\"KM_estimate\", fitted with 3 total observations, 1 right-censored observations>"
      ]
     },
     "execution_count": 19,
     "metadata": {},
     "output_type": "execute_result"
    }
   ],
   "source": [
    "\n",
    "kmf_B = KaplanMeierFitter()\n",
    "kmf_B.fit(durations=group_B['time'], event_observed=group_B['event'])"
   ]
  },
  {
   "cell_type": "code",
   "execution_count": 30,
   "id": "59bc21e2",
   "metadata": {},
   "outputs": [
    {
     "data": {
      "image/png": "[encoded data removed]",
      "text/plain": [
       "<Figure size 640x480 with 1 Axes>"
      ]
     },
     "metadata": {},
     "output_type": "display_data"
    }
   ],
   "source": [
    "# Plot Kaplan-Meier survival curves for both groups\n",
    "kmf_A.plot_survival_function(label='Treatment A')\n",
    "kmf_B.plot_survival_function(label='Treatment B')\n",
    "plt.title('Kaplan-Meier Survival Curves for Treatment A and Treatment B')\n",
    "plt.xlabel('Time')\n",
    "plt.ylabel('Survival Probability')\n",
    "plt.legend()\n",
    "plt.show()"
   ]
  },
  {
   "cell_type": "code",
   "execution_count": 26,
   "id": "6d8a5fc0",
   "metadata": {},
   "outputs": [],
   "source": [
    "# Perform the log-rank test\n",
    "results = logrank_test(\n",
    "                       durations_A=group_A['time'],\n",
    "                       durations_B=group_B['time'],\n",
    "                       event_observed_A=group_A['event'],\n",
    "                       event_observed_B=group_B['event']\n",
    ")"
   ]
  },
  {
   "cell_type": "code",
   "execution_count": 33,
   "id": "8b03af82",
   "metadata": {},
   "outputs": [
    {
     "name": "stdout",
     "output_type": "stream",
     "text": [
      "<lifelines.StatisticalResult: logrank_test>\n",
      "               t_0 = -1\n",
      " null_distribution = chi squared\n",
      "degrees_of_freedom = 1\n",
      "         test_name = logrank_test\n",
      "\n",
      "---\n",
      " test_statistic    p  -log2(p)\n",
      "           0.14 0.71      0.49\n"
     ]
    }
   ],
   "source": [
    "print(results)"
   ]
  },
  {
   "cell_type": "markdown",
   "id": "c4873530",
   "metadata": {},
   "source": [
    "### Interpretation\n",
    "\n",
    "#### Since the p-value is relatively high (0.71), we do not have enough evidence to reject the null hypothesis. The null hypothesis in this context typically states that there is no difference in survival experiences between the two groups.\n",
    "\n",
    "#### The test statistic of 0.14 suggests a small difference in survival between the groups, but it is not statistically significant given the high p-value.\n",
    "\n",
    "#### The -log2(p) value of 0.49 is another way to express the p-value. In general, the larger the -log2(p), the smaller the p-value. Here, the -log2(p) is not very large, indicating a non-significant result."
   ]
  },
  {
   "cell_type": "code",
   "execution_count": null,
   "id": "c6091e9e",
   "metadata": {},
   "outputs": [],
   "source": [
    " "
   ]
  },
  {
   "cell_type": "markdown",
   "id": "3f32df7e",
   "metadata": {},
   "source": [
    " ## Cox propotional hazard model  -  semi-parametric model\n",
    "\n",
    "It is commonly used for right-censored data, where the exact event time is not observed but is known to have occurred after a certain time. "
   ]
  },
  {
   "cell_type": "code",
   "execution_count": 34,
   "id": "23817a3a",
   "metadata": {},
   "outputs": [],
   "source": [
    "# The Cox PH model assumes that the hazard function is proportional across different levels of covariates. "
   ]
  },
  {
   "cell_type": "markdown",
   "id": "8510eaca",
   "metadata": {},
   "source": [
    "#### Let's consider a real-world example involving right interval-censored data and the application of the Cox Proportional-Hazards (Cox PH) model.\n",
    "In this example, we'll focus on a medical study where patients are monitored for the time it takes for a specific health event (e.g., disease progression) to occur within given time intervals.\n",
    "\n",
    "Suppose we have a dataset with information about patients, their disease progression intervals, and whether the event of interest (e.g., disease progression) occurred within those intervals. "
   ]
  },
  {
   "cell_type": "code",
   "execution_count": 38,
   "id": "be1f94ba",
   "metadata": {},
   "outputs": [],
   "source": [
    "data = pd.DataFrame({\n",
    "    'patient_id': [1, 2, 3, 4, 5],\n",
    "    'start_interval': [0, 10, 20, 30, 40],\n",
    "    'end_interval': [10, 20, 30, 40, 50],\n",
    "    'event_occurred': [1, 1, 0, 1, 0]  # 1 indicates event occurred, 0 indicates right-censoring\n",
    "})"
   ]
  },
  {
   "cell_type": "code",
   "execution_count": null,
   "id": "031f4a6d",
   "metadata": {},
   "outputs": [],
   "source": [
    "# Fit Cox PH model\n",
    "cph = CoxPHFitter()\n",
    "cph.fit(data, duration_col='end_interval', event_col='event_occurred')\n",
    "\n",
    "# Display the summary of the fitted model\n",
    "print(cph.summary)"
   ]
  },
  {
   "cell_type": "markdown",
   "id": "5d843318",
   "metadata": {},
   "source": [
    "## Parametric model\n",
    "#### Mazimum likelihood estimation\n",
    "Weibull / Expomnential distribution"
   ]
  },
  {
   "cell_type": "markdown",
   "id": "5a80e0f6",
   "metadata": {},
   "source": [
    "### Interval censoring\n",
    " right \n",
    " left : \n",
    "   Cox Proportional Hazards Model with Left Censoring:\n",
    "   \n",
    "   Kaplan-Meier Estimator with Left Censoring:\n",
    "   \n",
    "   Nelson-Aalen Estimator with Left Censoring:\n",
    "   \n",
    "   Maximum Likelihood Estimation (MLE) with Left Censoring:\n",
    "   \n",
    "   Inversion of Rank Tests:\n",
    "   \n",
    "   Parametric Bayesian Methods : \n",
    "       . Markov Chain Monte Carlo (MCMC)\n",
    "   \n",
    "   Turnbull\n",
    "\n",
    "  non parametric\n",
    "    Kaplan-Meier Estimator: T\n",
    "    Nelson-Aalen Estimator\n",
    "    \n",
    " \n",
    " parametric\n",
    "    Weibull, exponential, or log-logistic models, \n",
    "\n",
    " semi-parametric\n",
    "     Cox Proportional Hazards Model: \n",
    " Bayesian survival analysis\n",
    " multiple imputations\n",
    " expected mazimization"
   ]
  },
  {
   "cell_type": "code",
   "execution_count": 43,
   "id": "cce62701",
   "metadata": {},
   "outputs": [],
   "source": [
    "# There are many ways every time it morely dependent, an ite problem specific.\n",
    "# Cheak out this post : "
   ]
  },
  {
   "cell_type": "markdown",
   "id": "85b76d64",
   "metadata": {},
   "source": [
    "lifelines link : https://lifelines.readthedocs.io/en/latest/Examples.html#problems-with-convergence-in-the-cox-proportional-hazard-modelMatrix"
   ]
  },
  {
   "cell_type": "code",
   "execution_count": null,
   "id": "da61a114",
   "metadata": {},
   "outputs": [],
   "source": []
  }
 ],
 "metadata": {
  "kernelspec": {
   "display_name": "Python 3 (ipykernel)",
   "language": "python",
   "name": "python3"
  },
  "language_info": {
   "codemirror_mode": {
    "name": "ipython",
    "version": 3
   },
   "file_extension": ".py",
   "mimetype": "text/x-python",
   "name": "python",
   "nbconvert_exporter": "python",
   "pygments_lexer": "ipython3",
   "version": "3.11.5"
  }
 },
 "nbformat": 4,
 "nbformat_minor": 5
}
